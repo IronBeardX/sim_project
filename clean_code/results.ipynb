{
 "cells": [
  {
   "cell_type": "markdown",
   "metadata": {},
   "source": [
    "# Resultados y experimentos\n",
    "\n",
    "En este notebook mostraremos algunos resultados estadísticos de la simulación"
   ]
  },
  {
   "cell_type": "code",
   "execution_count": null,
   "metadata": {},
   "outputs": [],
   "source": [
    "from simulation_engine import *\n",
    "\n",
    "simulation_time:int = 14 * 60 # 14 hours * 60 min = 840\n",
    "# The simulation time is in minutes\n",
    "sim = InventorySimulation(sim_duration=simulation_time)\n",
    "sim.run()\n",
    "\n",
    "registry = sim.registry\n",
    "\n",
    "registry.balance_registry"
   ]
  }
 ],
 "metadata": {
  "kernelspec": {
   "display_name": ".py_environment",
   "language": "python",
   "name": "python3"
  },
  "language_info": {
   "codemirror_mode": {
    "name": "ipython",
    "version": 3
   },
   "file_extension": ".py",
   "mimetype": "text/x-python",
   "name": "python",
   "nbconvert_exporter": "python",
   "pygments_lexer": "ipython3",
   "version": "3.12.2"
  }
 },
 "nbformat": 4,
 "nbformat_minor": 2
}
