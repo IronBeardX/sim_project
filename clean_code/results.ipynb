{
 "cells": [
  {
   "cell_type": "markdown",
   "metadata": {},
   "source": [
    "# Resultados y experimentos\n",
    "\n",
    "En este notebook mostraremos algunos resultados estadísticos de la simulación"
   ]
  },
  {
   "cell_type": "code",
   "execution_count": 1,
   "metadata": {},
   "outputs": [],
   "source": [
    "from simulation_engine import *\n",
    "\n",
    "simulation_time:int = 14 * 60 # 14 hours * 60 min = 840\n",
    "# The simulation time is in minutes\n",
    "sim = InventorySimulation(sim_duration=simulation_time)\n",
    "sim.run()\n",
    "\n",
    "# registry = sim.registry\n",
    "\n",
    "# registry.balance_registry"
   ]
  },
  {
   "cell_type": "code",
   "execution_count": 3,
   "metadata": {},
   "outputs": [
    {
     "ename": "AttributeError",
     "evalue": "'SimStatistics' object has no attribute 'plot_sales'",
     "output_type": "error",
     "traceback": [
      "\u001b[0;31m---------------------------------------------------------------------------\u001b[0m",
      "\u001b[0;31mAttributeError\u001b[0m                            Traceback (most recent call last)",
      "Cell \u001b[0;32mIn[3], line 6\u001b[0m\n\u001b[1;32m      3\u001b[0m sim_statistics \u001b[38;5;241m=\u001b[39m SimStatistics(sim\u001b[38;5;241m.\u001b[39mregistry)\n\u001b[1;32m      5\u001b[0m \u001b[38;5;66;03m# plotting the seels of the store\u001b[39;00m\n\u001b[0;32m----> 6\u001b[0m \u001b[43msim_statistics\u001b[49m\u001b[38;5;241;43m.\u001b[39;49m\u001b[43mplot_sales\u001b[49m()\n",
      "\u001b[0;31mAttributeError\u001b[0m: 'SimStatistics' object has no attribute 'plot_sales'"
     ]
    }
   ],
   "source": [
    "from sim_stats import FlattenRegistry, SimStatistics\n",
    "\n",
    "sim_statistics = SimStatistics(sim.registry)\n",
    "\n",
    "# plotting the seels of the store\n",
    "sim_statistics.plot_sells()"
   ]
  },
  {
   "cell_type": "code",
   "execution_count": null,
   "metadata": {},
   "outputs": [],
   "source": []
  }
 ],
 "metadata": {
  "kernelspec": {
   "display_name": ".py_environment",
   "language": "python",
   "name": "python3"
  },
  "language_info": {
   "codemirror_mode": {
    "name": "ipython",
    "version": 3
   },
   "file_extension": ".py",
   "mimetype": "text/x-python",
   "name": "python",
   "nbconvert_exporter": "python",
   "pygments_lexer": "ipython3",
   "version": "3.12.2"
  }
 },
 "nbformat": 4,
 "nbformat_minor": 2
}
